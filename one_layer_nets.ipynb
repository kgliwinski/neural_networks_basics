{
 "cells": [
  {
   "attachments": {},
   "cell_type": "markdown",
   "metadata": {},
   "source": [
    "# One layer nets - excersises\n",
    "\n",
    "Developing three functions:\n",
    "- init_one_layer - to build the net, and randomly initialize nets\n",
    "- sim_one_layer - to simulate the net's operation\n",
    "- train_one_layer - to train the net\n",
    "\n",
    "**Note** When using one layer nets there is no bias\n",
    "\n",
    "And one testing script:\n",
    "- test_one_layer - 5-3 net, problem: recognizing animals\n",
    "\n",
    "## init_one_layer\n",
    "\n",
    "Creates a SxK (inputs_num x neurons_num) matrix of weights\n",
    "\n",
    "![init_one_layer](images/init_one_layer.png)\n",
    "![init_one_layer2](images/init_one_layer_2.png)"
   ]
  },
  {
   "cell_type": "code",
   "execution_count": 9,
   "metadata": {},
   "outputs": [
    {
     "name": "stdout",
     "output_type": "stream",
     "text": [
      "[[-0.09067791 -0.03181549  0.04651628]\n",
      " [-0.01419057 -0.08467858 -0.04806922]\n",
      " [-0.01327307  0.01708164 -0.07840768]\n",
      " [-0.07622978 -0.02726185 -0.03573679]]\n"
     ]
    }
   ],
   "source": [
    "%matplotlib widget\n",
    "# Init\n",
    "import numpy as np\n",
    "\n",
    "# The function generates random weights for \n",
    "# inputs_num inputs, \n",
    "def init_one_layer(inputs_num: int, neurons_num: int) -> np.ndarray:\n",
    "    return np.random.rand(inputs_num, neurons_num) * 0.2 - 0.1\n",
    "\n",
    "print(init_one_layer(4, 3))"
   ]
  },
  {
   "attachments": {},
   "cell_type": "markdown",
   "metadata": {},
   "source": [
    "## sim_one_layer\n",
    "\n",
    "- calculates output vector Y of a layer with weight matrix W for input vector X\n",
    "- All neurons use signoid activation function\n",
    "\n",
    "![sim_one_layer](images/sim_one_layer.png)\n",
    "\n",
    "A sigmoid activation function is kind of like:\n",
    "\n",
    "$$ \n",
    "y = f(u) = \\begin{cases}\n",
    "1 \\text{ if }& u \\ge 0 \\\\\n",
    "0 \\text{ if }& u < 0\n",
    "\\end{cases}\n",
    "$$\n",
    "\n",
    "And can be approximated to:\n",
    "$$ \n",
    "y = f(u) = \\frac{1}{1 + \\exp^{-\\beta u}}\n",
    "$$\n",
    "$$\n",
    "f'(u) = \\beta \\cdot y \\cdot(1 - y)\n",
    "$$\n"
   ]
  },
  {
   "cell_type": "code",
   "execution_count": 10,
   "metadata": {},
   "outputs": [
    {
     "data": {
      "image/png": "[encoded data removed]",
      "text/plain": [
       "<Figure size 640x480 with 1 Axes>"
      ]
     },
     "metadata": {},
     "output_type": "display_data"
    },
    {
     "data": {
      "text/plain": [
       "array([0.16429076, 0.30628902, 0.2506852 ])"
      ]
     },
     "execution_count": 10,
     "metadata": {},
     "output_type": "execute_result"
    }
   ],
   "source": [
    "import matplotlib.pyplot as plt\n",
    "%matplotlib inline\n",
    "\n",
    "INPUTS_NUM = 4\n",
    "NEURONS_NUM = 3\n",
    "\n",
    "\"\"\"\n",
    "Initially here we create a function that is supposed to \n",
    "\"\"\"\n",
    "\n",
    "\n",
    "def sim_one_layer_example(weights: np.ndarray, input_vector: np.ndarray) -> np.ndarray:\n",
    "    beta = 1\n",
    "    U = np.arange(-5., 5., 0.01)\n",
    "    Y = 1 / (1 + np.exp(-beta * U))\n",
    "    plt.figure(1)\n",
    "    plt.plot(U, Y)\n",
    "    plt.grid()\n",
    "    plt.title('Some sort of real-like step function')\n",
    "    plt.show()\n",
    "\n",
    "\n",
    "def sim_one_layer(weights: np.ndarray, input_vector: np.ndarray) -> np.ndarray:\n",
    "\n",
    "    beta = 2.\n",
    "    U = np.matmul(weights.T, input_vector)\n",
    "    # print(U)\n",
    "    Y = 1 / (1 + np.exp(-beta * U))\n",
    "    # plt.figure(2)\n",
    "    # plt.scatter(U, Y)\n",
    "    # plt.grid()\n",
    "    # plt.title('Actual output')\n",
    "    # plt.show()\n",
    "    return Y\n",
    "\n",
    "\n",
    "W = init_one_layer(INPUTS_NUM, NEURONS_NUM)\n",
    "\n",
    "X = np.array([1., 20., 20., 1.])\n",
    "\n",
    "sim_one_layer_example(W, X)\n",
    "sim_one_layer(W, X)\n"
   ]
  },
  {
   "attachments": {},
   "cell_type": "markdown",
   "metadata": {},
   "source": [
    "## test_one_layer script\n",
    "\n",
    "Problem - animal recognition - test_one_layer\n",
    "\n",
    "Net's inputs:\n",
    "1. Number of legs\n",
    "2. Does it live in water\n",
    "3. Can it fly\n",
    "4. Does it have feathers\n",
    "5. Is it oviparous - born from legs\n",
    "\n",
    "Which can be represented by a matrix:\n",
    "\n",
    "\n",
    "$$\n",
    "P =\n",
    "\\begin{bmatrix}\n",
    "4 & 2 & -1 \\\\ \n",
    "0.01 & -1 & 3.5 \\\\\n",
    "0.01 & 2 & 0.01 \\\\\n",
    "-1 & 2.5 & -2 \\\\\n",
    "-1.5 & 2 & 1.5 \\\\\n",
    "\\end{bmatrix}\n",
    "$$\n",
    "\n",
    "And then we have the matrix of desired outputs:\n",
    "1. Mammal\n",
    "2. Bird\n",
    "3. Fish\n",
    "\n",
    "Represented by a matrix:\n",
    "\n",
    "$$\n",
    "T = \\begin{bmatrix}\n",
    "1 & 0 & 0 \\\\\n",
    "0 & 1 & 0 \\\\\n",
    "0 & 0 & 1 \\\\\n",
    "\\end{bmatrix}\n",
    "$$"
   ]
  },
  {
   "cell_type": "code",
   "execution_count": 14,
   "metadata": {},
   "outputs": [
    {
     "name": "stdout",
     "output_type": "stream",
     "text": [
      "[[ 4.    2.   -1.  ]\n",
      " [ 0.01 -1.    3.5 ]\n",
      " [ 0.01  2.    0.02]\n",
      " [-1.    2.5  -2.  ]\n",
      " [-1.5   2.    1.5 ]]\n",
      "[[ 0.19012913 -0.24374103 -0.48376897]\n",
      " [-0.27595585 -0.39737627  0.29399046]\n",
      " [-0.31862695  0.20274328 -0.08710339]\n",
      " [-0.19254591  0.44782933 -0.22449652]\n",
      " [-0.58138595  0.1931065   0.07990512]]\n",
      "Y_before training:\n",
      " [[0.59224482 0.60358479 0.53234092]\n",
      " [0.6313208  0.7300667  0.27385587]\n",
      " [0.52429068 0.44146531 0.51116572]]\n",
      "Y_after training:\n",
      " [[0.97437908 0.03731421 0.0356169 ]\n",
      " [0.03140744 0.97447733 0.02936805]\n",
      " [0.02516691 0.0247388  0.98462758]]\n"
     ]
    }
   ],
   "source": [
    "%matplotlib inline\n",
    "\n",
    "\n",
    "def train_one_layer(weight_before_train: np.ndarray,\n",
    "                    inputs: np.ndarray,\n",
    "                    desired_outputs: np.ndarray,\n",
    "                    steps_num: int) -> np.ndarray:\n",
    "    noExamples = inputs.shape[1]\n",
    "    # print(noExamples)\n",
    "    W = weight_before_train\n",
    "    beta = 5.\n",
    "    lr = 0.1\n",
    "    for i in range(steps_num):\n",
    "        exampleNo = np.random.randint(noExamples)\n",
    "        # print(int(exampleNo))\n",
    "        X = inputs[:, exampleNo]\n",
    "        Y = sim_one_layer(W, X)\n",
    "        # print(desired_outputs, Y)\n",
    "        D = desired_outputs[:, exampleNo] - Y\n",
    "        E = D * beta * Y * (1-Y)\n",
    "        # print(X, np.atleast_2d(E).T)\n",
    "        dW = np.multiply(X, np.atleast_2d(E).T) * lr\n",
    "        # print(dW)\n",
    "        W = W + dW.T\n",
    "    return W\n",
    "\n",
    "\n",
    "W_new = init_one_layer(5, 3)\n",
    "\n",
    "P = np.array([[4., 2., -1.], [0.01, -1, 3.5],\n",
    "             [0.01, 2, 0.02], [-1, 2.5, -2], [-1.5, 2, 1.5]])\n",
    "print(P)\n",
    "Y_before = sim_one_layer(W_new, P)\n",
    "desired_Y = np.array([[1., 0., 0.], [0., 1., 0.], [0., 0., 1.]])\n",
    "print(W_after := train_one_layer(W_new, P, desired_Y, 100))\n",
    "Y_after = sim_one_layer(W_after, P)\n",
    "print(f\"Y_before training:\\n {Y_before}\")\n",
    "print(f\"Y_after training:\\n {Y_after}\")\n"
   ]
  },
  {
   "attachments": {},
   "cell_type": "markdown",
   "metadata": {},
   "source": [
    "## Step by step\n",
    "\n",
    "So what does this function do?\n",
    "\n",
    "In steps:\n",
    "1. Draw example number\n",
    "2. Present the chosen example - calculate output\n",
    "3. Calculate errors\n",
    "4. Adjust weight - dW\n",
    "5. Add adjustments to weights\n",
    "\n",
    "Repeat that process n times"
   ]
  }
 ],
 "metadata": {
  "kernelspec": {
   "display_name": "Python 3",
   "language": "python",
   "name": "python3"
  },
  "language_info": {
   "codemirror_mode": {
    "name": "ipython",
    "version": 3
   },
   "file_extension": ".py",
   "mimetype": "text/x-python",
   "name": "python",
   "nbconvert_exporter": "python",
   "pygments_lexer": "ipython3",
   "version": "3.9.6"
  },
  "orig_nbformat": 4
 },
 "nbformat": 4,
 "nbformat_minor": 2
}
